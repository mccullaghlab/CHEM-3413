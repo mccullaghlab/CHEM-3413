{
 "cells": [
  {
   "cell_type": "markdown",
   "id": "surface-banks",
   "metadata": {
    "slideshow": {
     "slide_type": "slide"
    }
   },
   "source": [
    "# Enthalpy, $\\Delta H$, and Legendre Transforms"
   ]
  },
  {
   "cell_type": "markdown",
   "id": "dynamic-commons",
   "metadata": {
    "slideshow": {
     "slide_type": "slide"
    }
   },
   "source": [
    "## Learning goals for today:"
   ]
  },
  {
   "cell_type": "markdown",
   "id": "backed-slovak",
   "metadata": {
    "slideshow": {
     "slide_type": "fragment"
    }
   },
   "source": [
    "1. Express $H$ as a function of $U$, $P$ and $V$ \n",
    "2. Define heat capacity at constant volume and pressure in terms of partial derivatives\n",
    "3. Compute the enthalpy of an ideal gas given the number of moles and temperature\n",
    "4. Compute $\\Delta H$, $\\Delta U$, $q$, and $w$ for a reversible isothermal ideal gas expansion\n",
    "5. Compute $\\Delta H$, $\\Delta U$, $q$, and $w$ for an ideal gas expansion at constant external pressure"
   ]
  },
  {
   "cell_type": "markdown",
   "id": "southwest-phone",
   "metadata": {
    "slideshow": {
     "slide_type": "slide"
    }
   },
   "source": [
    "## Enthalpy"
   ]
  },
  {
   "cell_type": "markdown",
   "id": "pediatric-leone",
   "metadata": {
    "slideshow": {
     "slide_type": "fragment"
    }
   },
   "source": [
    "Enthalpy is an alternative expression for energy of a Thermodynamic system.  It is related to internal energy by swapping dependency of the energy on conjugate pair $P$ and $V$.  We will derive the expression using a Legendre transform.  "
   ]
  },
  {
   "cell_type": "markdown",
   "id": "present-fifteen",
   "metadata": {
    "slideshow": {
     "slide_type": "slide"
    }
   },
   "source": [
    "In order to determine an expression for enthalpy, we start by considering the expression for internal energy:\n",
    "\n",
    "$dU = \\delta q + \\delta w$\n",
    "\n",
    "We now plug in the expression $\\delta w = -P_{ext}dV$ to get\n",
    "\n",
    "$dU = \\delta q -P_{ext}dV$\n",
    "\n",
    "Without derivation, I will say that $\\delta q = TdS$.  This can be thought of as changes in temperature driving changes in entropy and the product of this is related to heat.  Thus, \n",
    "\n",
    "$dU = TdS -P_{ext}dV$\n",
    "\n",
    "I will drop the subscript $ext$ for ease of writing.  "
   ]
  },
  {
   "cell_type": "markdown",
   "id": "original-victorian",
   "metadata": {
    "slideshow": {
     "slide_type": "slide"
    }
   },
   "source": [
    "If we compare the differential expression for $U$ to the differential expression of a function of two variables, $f(x,y)$,\n",
    "\n",
    "$df = \\left( \\frac{\\partial f}{\\partial x}\\right)_ydx + \\left( \\frac{\\partial f}{\\partial y}\\right)_xdy$\n",
    "\n",
    "$dU = TdS -PdV$\n",
    "\n",
    "we see that $U$ is naturally a function of $S$ and $V$ and that $\\left( \\frac{\\partial U}{\\partial S}\\right)_V=T$ and $\\left( \\frac{\\partial U}{\\partial V}\\right)_S=-P$.\n",
    "\n",
    "$T$ and $S$ are a conjugate variable pair and $P$ and $V$ are a conjugate variable pair.  For our purposes, this means that they are related.  When you change $T$ you affect $S$ and vice versa, for example. "
   ]
  },
  {
   "cell_type": "markdown",
   "id": "rubber-explanation",
   "metadata": {
    "slideshow": {
     "slide_type": "slide"
    }
   },
   "source": [
    "Enthalpy has natural variables $S$ and $P$.  This can be achieved by transforming $U$ in order to change the dependency on $V$ to a dependency on $P$.  Transforming conjugate pairs is achieve mathematically by what is called a Legendre transform.  In order to achieve this, we subtract the product of the two variables to the function.\n",
    "\n",
    "$H = U - (-PV) = U + PV$\n",
    "\n",
    "notice that we actually subtract $-PV$ thus achieving the plus.  We can see what the differential term looks like by taking the differential of both sides:\n",
    "\n",
    "$dH = dU + d(PV)$\n",
    "\n",
    "Now, plug in for dU:\n",
    "\n",
    "$dH = TdS - PdV + d(PV)$\n",
    "\n",
    "Apply produt rule to $d(PV) = PdV + VdP$,\n",
    "\n",
    "$dH = TdS - PdV + PdV + VdP = TdS + VdP$"
   ]
  },
  {
   "cell_type": "markdown",
   "id": "described-london",
   "metadata": {
    "slideshow": {
     "slide_type": "slide"
    }
   },
   "source": [
    "From the differential expression of $H$, we see that $S$ and $P$ are the natural variables of enthalpy and that $\\left( \\frac{\\partial H}{\\partial S}\\right)_P=T$ and $\\left( \\frac{\\partial H}{\\partial P}\\right)_S=V$."
   ]
  },
  {
   "cell_type": "markdown",
   "id": "unavailable-virginia",
   "metadata": {
    "slideshow": {
     "slide_type": "slide"
    }
   },
   "source": [
    "### Enthalpy as heat"
   ]
  },
  {
   "cell_type": "markdown",
   "id": "suitable-impact",
   "metadata": {
    "slideshow": {
     "slide_type": "fragment"
    }
   },
   "source": [
    "Under constant pressure conditions, $\\Delta H = q_P$.  To see this, consider\n",
    "\n",
    "$\\Delta H = \\int dH = \\int TdS + \\int VdP$\n",
    "\n",
    "Under constant pressure, $dP = 0$ so the second term on the right-hand side of the above equation is zero.  Also recognize that $TdS = \\delta q$, thus we get:\n",
    "\n",
    "$\\Delta H = q_P$.  \n",
    "\n",
    "where the subscript $P$ denotes at constant pressure.  Note that $\\Delta H$ is a state function so the value does not depend on the path thus the above equality holds between any two states but $q_P$ must be computed along the constant pressure path.  "
   ]
  },
  {
   "cell_type": "markdown",
   "id": "reliable-sunrise",
   "metadata": {
    "slideshow": {
     "slide_type": "slide"
    }
   },
   "source": [
    "## Heat Capacity"
   ]
  },
  {
   "cell_type": "markdown",
   "id": "exclusive-parking",
   "metadata": {
    "slideshow": {
     "slide_type": "fragment"
    }
   },
   "source": [
    "The heat capacity of a substance at constant pressure, $C_P$ is related to the enthalpy of the system.  Specifically, the heat capacity is the amount of energy it takes to raise the temperature of a system by 1 degree Kelvin or Celsius.  This written as\n",
    "\n",
    "$C_P = \\left(\\frac{\\partial H}{\\partial T}\\right)_P$,\n",
    "\n",
    "where the subscript $P$ denotes at constant pressure."
   ]
  },
  {
   "cell_type": "markdown",
   "id": "incorporated-louis",
   "metadata": {
    "slideshow": {
     "slide_type": "slide"
    }
   },
   "source": [
    "## Ideal Gas Expansion and Contraction"
   ]
  },
  {
   "cell_type": "markdown",
   "id": "arranged-sailing",
   "metadata": {
    "slideshow": {
     "slide_type": "slide"
    }
   },
   "source": [
    "Let's consider computing enthalpy change, $\\Delta H$, in addition to $\\Delta U$, $q$ and $w$ for an ideal gas expansion/contraction.\n",
    "\n",
    "But first, a few words on the enthalpy of an ideal gas..."
   ]
  },
  {
   "cell_type": "markdown",
   "id": "emotional-million",
   "metadata": {
    "slideshow": {
     "slide_type": "slide"
    }
   },
   "source": [
    "### Enthalpy of an ideal gas"
   ]
  },
  {
   "cell_type": "markdown",
   "id": "auburn-aircraft",
   "metadata": {
    "slideshow": {
     "slide_type": "fragment"
    }
   },
   "source": [
    "An ideal gas is one in which the individual particles do not interact (no nonbonded interactions).  Thus, the internal energy of the system is the kinetic energy of the particles.  This can be written as:\n",
    "\n",
    "$U_{sys} = \\frac{3}{2} nRT$,\n",
    "\n",
    "where $n$ is the number of moles of the gas, $R$ is the universal gas constant, and $T$ is the temperature. Enthalpy is related to internal energy by\n",
    "\n",
    "$H_{sys} = U_{sys} + PV = U_{sys} + nRT = \\frac{5}{2}nRT $\n",
    "\n",
    "Note that the above equalites indicate that, for an ideal gas,\n",
    "\n",
    "$C_V = \\left(\\frac{\\partial U}{\\partial T}\\right)_V = \\frac{3}{2} nR$\n",
    "\n",
    "and\n",
    "\n",
    "$C_P = \\left(\\frac{\\partial H}{\\partial T}\\right)_P = \\frac{5}{2} nR$"
   ]
  },
  {
   "cell_type": "markdown",
   "id": "social-fisher",
   "metadata": {
    "slideshow": {
     "slide_type": "slide"
    }
   },
   "source": [
    "### Reversible Isothermal Expansion"
   ]
  },
  {
   "cell_type": "markdown",
   "id": "charitable-hotel",
   "metadata": {
    "slideshow": {
     "slide_type": "fragment"
    }
   },
   "source": [
    "Compute the $\\Delta H$, $\\Delta U$, $q$, and $w$ for $n$ moles of an ideal gas when it expands from $V_1$ to $V_2$ reversibly and isothermally."
   ]
  },
  {
   "cell_type": "markdown",
   "id": "painted-species",
   "metadata": {
    "slideshow": {
     "slide_type": "slide"
    }
   },
   "source": [
    "Recall from last time that we determined\n",
    "\n",
    "$\\Delta U_{sys} = 0$\n",
    "\n",
    "$w = nRT\\ln\\left(\\frac{V_i}{V_f}\\right)$\n",
    "\n",
    "$q = nRT\\ln\\left(\\frac{V_f}{V_i}\\right)$\n",
    "\n",
    "Change in enthalpy is relatively straight forward\n",
    "\n",
    "$\\Delta H_{sys} = \\frac{5}{2}nR\\Delta T = 0$"
   ]
  },
  {
   "cell_type": "markdown",
   "id": "dress-archive",
   "metadata": {
    "slideshow": {
     "slide_type": "slide"
    }
   },
   "source": [
    "### Expansion against Constant External Pressure"
   ]
  },
  {
   "cell_type": "markdown",
   "id": "broke-worse",
   "metadata": {
    "slideshow": {
     "slide_type": "fragment"
    }
   },
   "source": [
    "Compute $\\Delta H$, $\\Delta U$, $q$, and $w$ for $n$ moles of an ideal gas when it expands from $V_1$ to $V_2$ against a constant external pressure, $P_{ext}$."
   ]
  },
  {
   "cell_type": "markdown",
   "id": "vocational-junior",
   "metadata": {
    "slideshow": {
     "slide_type": "slide"
    }
   },
   "source": [
    "Recall from last time that we determined:\n",
    "\n",
    "$w = -P_{ext}\\Delta V = -P_2\\Delta V = \\frac{-nRT_2}{V_2}\\Delta V$.\n",
    "\n",
    "Now what about $\\Delta U$?  For this, we us\n",
    "\n",
    "$\\Delta U = \\frac{3}{2}nR\\Delta T = C_V \\Delta T$.\n",
    "\n",
    "We don't know much about $\\Delta T$ for this problem so we will leave it at that.  Similarly, we can determine $\\Delta H$:\n",
    "\n",
    "$\\Delta H = \\frac{5}{2}nR\\Delta T = C_P \\Delta T$.\n",
    "\n",
    "$q$ can be determined from the relationship $\\Delta U = q + w$:\n",
    "\n",
    "$q = \\Delta U - w = C_V \\Delta T + \\frac{-nRT_2}{V_2}\\Delta V$"
   ]
  }
 ],
 "metadata": {
  "celltoolbar": "Slideshow",
  "kernelspec": {
   "display_name": "Python 3",
   "language": "python",
   "name": "python3"
  },
  "language_info": {
   "codemirror_mode": {
    "name": "ipython",
    "version": 3
   },
   "file_extension": ".py",
   "mimetype": "text/x-python",
   "name": "python",
   "nbconvert_exporter": "python",
   "pygments_lexer": "ipython3",
   "version": "3.6.5"
  }
 },
 "nbformat": 4,
 "nbformat_minor": 5
}
